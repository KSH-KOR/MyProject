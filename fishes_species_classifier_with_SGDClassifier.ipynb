import pandas as pd
fish = pd.read_csv('https://bit.ly/fish_csv_data')
print(fish.head(5))

"""### SGDClassifier"""

"""##preparing data"""

fish_input = fish[['Weight', 'Length', 'Diagonal', 'Height', 'Width']].to_numpy()
fish_target = fish[['Species']].to_numpy()

"""# get train and test set"""
from sklearn.model_selection import train_test_split
train_input, test_input, train_target, test_target = train_test_split(fish_input, fish_target, random_state = 42)

"""# data scale"""
from sklearn.preprocessing import StandardScaler
ss = StandardScaler()
ss.fit(train_input)
train_scaled_input = ss.transform(train_input)
test_scaled_input = ss.transform(test_input)

"""## train SGDClassifier model"""
"""# find proper epoch"""
from sklearn.linear_model import SGDClassifier
import numpy as np

sc = SGDClassifier(loss = 'log', max_iter = 1, random_state = 42)
train_score = []
test_score = []
data_classes = np.unique(train_target)

for _ in range(0,300):
  sc.partial_fit(train_scaled_input, train_target, classes = data_classes)
  train_score.append(sc.score(train_scaled_input, train_target))
  test_score.append(sc.score(test_scaled_input, test_target))

""" display plot"""
import matplotlib.pyplot as plt
plt.plot(train_score)
plt.plot(test_score)
plt.xlabel('epoch')
plt.ylabel('accuracy')
plt.show()

"""train useful model"""
sc = SGDClassifier(loss = 'log', max_iter=100, tol=None, random_state=42)
sc.fit(train_scaled_input, train_target)
print(sc.score(train_scaled_input, train_target))
print(sc.score(test_scaled_input, test_target))

print(sc.predict(test_scaled_input[:5]))
print(np.ravel(test_target[:5]))
print(test_input[:5])
